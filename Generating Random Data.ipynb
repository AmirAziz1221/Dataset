{
 "cells": [
  {
   "cell_type": "code",
   "execution_count": 2,
   "id": "1d2d26d8",
   "metadata": {},
   "outputs": [],
   "source": [
    "import numpy as np\n",
    "import pandas as pd\n"
   ]
  },
  {
   "cell_type": "code",
   "execution_count": 7,
   "id": "b5c3fbf9",
   "metadata": {},
   "outputs": [
    {
     "name": "stdout",
     "output_type": "stream",
     "text": [
      "    Height  Weight Classification\n",
      "0      167      73         Normal\n",
      "1      184      77     Overweight\n",
      "2      180      66    Underweight\n",
      "3      198      63         Normal\n",
      "4      194      70     Overweight\n",
      "5      156      74     Overweight\n",
      "6      142      60    Underweight\n",
      "7      189      84    Underweight\n",
      "8      159      60     Overweight\n",
      "9      198      82    Underweight\n",
      "10     155      81         Normal\n",
      "11     170      49         Normal\n",
      "12     199      70         Normal\n",
      "13     193      48         Normal\n",
      "14     199      74     Overweight\n",
      "15     180      67     Overweight\n",
      "16     190      79     Overweight\n",
      "17     179      51         Normal\n",
      "18     180      57     Overweight\n",
      "19     155      45     Overweight\n",
      "20     174      51     Overweight\n",
      "21     153      89     Overweight\n",
      "22     198      47         Normal\n",
      "23     190      47     Overweight\n",
      "24     184      69     Overweight\n",
      "25     178      60         Normal\n",
      "26     156      46    Underweight\n",
      "27     165      67    Underweight\n",
      "28     148      89    Underweight\n",
      "29     157      63     Overweight\n"
     ]
    }
   ],
   "source": [
    "# Generating sample data\n",
    "height = np.random.randint(140, 200, size=30)\n",
    "weight = np.random.randint(45, 90, size=30)\n",
    "classification = np.random.choice(['Underweight', 'Normal', 'Overweight'], size=30)\n",
    "\n",
    "# Creating a DataFrame\n",
    "data = {\n",
    "    'Height': height,\n",
    "    'Weight': weight,\n",
    "    'Classification': classification\n",
    "}\n",
    "\n",
    "df = pd.DataFrame(data)\n",
    "print(df)"
   ]
  },
  {
   "cell_type": "code",
   "execution_count": null,
   "id": "2fa9c377",
   "metadata": {},
   "outputs": [],
   "source": [
    "\n"
   ]
  },
  {
   "cell_type": "code",
   "execution_count": null,
   "id": "ca31edd1",
   "metadata": {},
   "outputs": [],
   "source": []
  }
 ],
 "metadata": {
  "kernelspec": {
   "display_name": "Python 3 (ipykernel)",
   "language": "python",
   "name": "python3"
  },
  "language_info": {
   "codemirror_mode": {
    "name": "ipython",
    "version": 3
   },
   "file_extension": ".py",
   "mimetype": "text/x-python",
   "name": "python",
   "nbconvert_exporter": "python",
   "pygments_lexer": "ipython3",
   "version": "3.11.5"
  }
 },
 "nbformat": 4,
 "nbformat_minor": 5
}
